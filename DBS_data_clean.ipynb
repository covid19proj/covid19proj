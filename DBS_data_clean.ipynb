{
 "cells": [
  {
   "cell_type": "code",
   "execution_count": null,
   "metadata": {},
   "outputs": [],
   "source": [
    "import json\n",
    "with open(\"covid19.json\", \"r\") as read_file:\n",
    "    data = json.load(read_file)[\"records\"]\n",
    "\n",
    "keys = list(data[0].keys())\n",
    "missing_data = set()\n",
    "for row in data:\n",
    "    values = list(row.values())\n",
    "    row[\"dateRep\"] = \"-\".join([values[3],values[2],values[1]])\n",
    "    for k in [1,2,3,4,5,9]:\n",
    "        if row[keys[k]] != '':\n",
    "            row[keys[k]] = int(row[keys[k]])\n",
    "    for j in range(11):\n",
    "        if values[j] == '':\n",
    "            missing_data.add((row[\"countriesAndTerritories\"],keys[j]))"
   ]
  },
  {
   "cell_type": "code",
   "execution_count": null,
   "metadata": {},
   "outputs": [],
   "source": [
    "# check what the missing data is\n",
    "missing_data"
   ]
  },
  {
   "cell_type": "code",
   "execution_count": null,
   "metadata": {},
   "outputs": [],
   "source": [
    "for row in data:\n",
    "    if row[\"countriesAndTerritories\"] == \"Anguilla\":\n",
    "        row[\"popData2018\"] = 14731\n",
    "        row[\"countryterritoryCode\"] = \"AIA\"\n",
    "    if row[\"countriesAndTerritories\"] == \"Bonaire, Saint Eustatius and Saba\":\n",
    "        row[\"popData2018\"] = 19549\n",
    "        row[\"countryterritoryCode\"] = \"BES\"\n",
    "    if row[\"countriesAndTerritories\"] == \"Eritrea\":\n",
    "        row[\"popData2018\"] = 6050000\n",
    "    if row[\"countriesAndTerritories\"] == \"Falkland_Islands_(Malvinas)\":\n",
    "        row[\"popData2018\"] = 3214\n",
    "        row[\"countryterritoryCode\"] = \"FLK\""
   ]
  },
  {
   "cell_type": "code",
   "execution_count": null,
   "metadata": {},
   "outputs": [],
   "source": [
    "missing_data1 = set()\n",
    "for row in data:\n",
    "    values = list(row.values())\n",
    "    for j in range(11):\n",
    "        if values[j] == '':\n",
    "            missing_data1.add((row[\"countriesAndTerritories\"],keys[j]))\n",
    "\n",
    "# double check again to make sure the dataset is now complete\n",
    "missing_data1"
   ]
  },
  {
   "cell_type": "code",
   "execution_count": null,
   "metadata": {},
   "outputs": [],
   "source": [
    "import psycopg2\n",
    "connection = psycopg2.connect(user = \"\",\n",
    "                                  password = \"\",\n",
    "                                  host = \"\",\n",
    "                                  port = \"\",\n",
    "                                  database = \"\")\n",
    "\n",
    "cursor = connection.cursor()\n",
    "print(connection.get_dsn_parameters(),\"\\n\")\n",
    "\n",
    "insert = \"INSERT INTO kvv_data.covid19 VALUES \"\n",
    "for row in data:\n",
    "    insert1 = insert + tuple(row.values())\n",
    "    cursor.execute(insert1)\n",
    "    \n",
    "connection.commit()"
   ]
  }
 ],
 "metadata": {
  "kernelspec": {
   "display_name": "Python 3",
   "language": "python",
   "name": "python3"
  },
  "language_info": {
   "codemirror_mode": {
    "name": "ipython",
    "version": 3
   },
   "file_extension": ".py",
   "mimetype": "text/x-python",
   "name": "python",
   "nbconvert_exporter": "python",
   "pygments_lexer": "ipython3",
   "version": "3.7.7"
  }
 },
 "nbformat": 4,
 "nbformat_minor": 4
}
